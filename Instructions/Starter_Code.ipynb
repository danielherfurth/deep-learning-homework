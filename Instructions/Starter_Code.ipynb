{
 "cells": [
  {
   "cell_type": "markdown",
   "metadata": {},
   "source": [
    "## Preprocessing"
   ]
  },
  {
   "cell_type": "code",
   "execution_count": 1,
   "metadata": {},
   "outputs": [],
   "source": [
    "# Import our dependencies\n",
    "from sklearn.model_selection import train_test_split as tts\n",
    "from sklearn.preprocessing import StandardScaler\n",
    "import pandas as pd\n",
    "import tensorflow as tf\n",
    "\n",
    "#  Import and read the charity_data.csv.\n",
    "import pandas as pd"
   ]
  },
  {
   "cell_type": "code",
   "execution_count": 2,
   "outputs": [
    {
     "data": {
      "text/plain": "EIN                        int64\nNAME                      object\nAPPLICATION_TYPE          object\nAFFILIATION               object\nCLASSIFICATION            object\nUSE_CASE                  object\nORGANIZATION              object\nSTATUS                     int64\nINCOME_AMT                object\nSPECIAL_CONSIDERATIONS    object\nASK_AMT                    int64\nIS_SUCCESSFUL              int64\ndtype: object"
     },
     "execution_count": 2,
     "metadata": {},
     "output_type": "execute_result"
    }
   ],
   "source": [
    "application_df = pd.read_csv(\"../Resources/charity_data.csv\")\n",
    "application_df.dtypes"
   ],
   "metadata": {
    "collapsed": false,
    "pycharm": {
     "name": "#%%\n"
    }
   }
  },
  {
   "cell_type": "code",
   "execution_count": 3,
   "metadata": {},
   "outputs": [
    {
     "data": {
      "text/plain": "Index(['APPLICATION_TYPE', 'AFFILIATION', 'CLASSIFICATION', 'USE_CASE',\n       'ORGANIZATION', 'STATUS', 'INCOME_AMT', 'SPECIAL_CONSIDERATIONS',\n       'ASK_AMT', 'IS_SUCCESSFUL'],\n      dtype='object')"
     },
     "execution_count": 3,
     "metadata": {},
     "output_type": "execute_result"
    }
   ],
   "source": [
    "# Drop the non-beneficial ID columns, 'EIN' and 'NAME'.\n",
    "application_df.drop(\n",
    "    columns=['EIN', 'NAME'],\n",
    "    inplace=True\n",
    ")\n",
    "\n",
    "application_df.columns"
   ]
  },
  {
   "cell_type": "code",
   "execution_count": 4,
   "metadata": {},
   "outputs": [
    {
     "data": {
      "text/plain": "APPLICATION_TYPE            17\nAFFILIATION                  6\nCLASSIFICATION              71\nUSE_CASE                     5\nORGANIZATION                 4\nSTATUS                       2\nINCOME_AMT                   9\nSPECIAL_CONSIDERATIONS       2\nASK_AMT                   8747\nIS_SUCCESSFUL                2\ndtype: int64"
     },
     "execution_count": 4,
     "metadata": {},
     "output_type": "execute_result"
    }
   ],
   "source": [
    "# Determine the number of unique values in each column.\n",
    "application_df.nunique()"
   ]
  },
  {
   "cell_type": "code",
   "execution_count": 5,
   "metadata": {},
   "outputs": [
    {
     "name": "stdout",
     "output_type": "stream",
     "text": [
      "{'T3': 27037, 'T4': 1542, 'T6': 1216, 'T5': 1173, 'T19': 1065, 'T8': 737, 'T7': 725, 'T10': 528, 'T9': 156, 'T13': 66, 'T12': 27, 'T2': 16, 'T25': 3, 'T14': 3, 'T29': 2, 'T15': 2, 'T17': 1}\n"
     ]
    }
   ],
   "source": [
    "# Look at APPLICATION_TYPE value counts for binning\n",
    "val_counts = application_df['APPLICATION_TYPE'].value_counts().to_dict()\n",
    "(print(val_counts))\n",
    "import numpy as np"
   ]
  },
  {
   "cell_type": "code",
   "execution_count": 6,
   "outputs": [
    {
     "data": {
      "text/plain": "{'T10': 'other',\n 'T9': 'other',\n 'T13': 'other',\n 'T12': 'other',\n 'T2': 'other',\n 'T25': 'other',\n 'T14': 'other',\n 'T29': 'other',\n 'T15': 'other',\n 'T17': 'other'}"
     },
     "execution_count": 6,
     "metadata": {},
     "output_type": "execute_result"
    }
   ],
   "source": [
    "# Choose a cutoff value and create a list of application types to be replaced\n",
    "# use the variable name `application_types_to_replace`\n",
    "#  YOUR CODE GOES HERE\n",
    "\n",
    "application_types_to_replace = {k: 'other' for k, v in val_counts.items() if v < 700}\n",
    "application_types_to_replace"
   ],
   "metadata": {
    "collapsed": false,
    "pycharm": {
     "name": "#%%\n"
    }
   }
  },
  {
   "cell_type": "code",
   "execution_count": 7,
   "outputs": [
    {
     "data": {
      "text/plain": "T3       27037\nT4        1542\nT6        1216\nT5        1173\nT19       1065\nother      804\nT8         737\nT7         725\nName: APPLICATION_TYPE, dtype: int64"
     },
     "execution_count": 7,
     "metadata": {},
     "output_type": "execute_result"
    }
   ],
   "source": [
    "\n",
    "# Replace in dataframe\n",
    "# for app in application_types_to_replace:\n",
    "#     application_df['APPLICATION_TYPE'] = application_df['APPLICATION_TYPE'].replace(app,\"Other\")\n",
    "\n",
    "application_df['APPLICATION_TYPE'].replace(application_types_to_replace, inplace=True)\n",
    "\n",
    "# Check to make sure binning was successful\n",
    "application_df['APPLICATION_TYPE'].value_counts()"
   ],
   "metadata": {
    "collapsed": false,
    "pycharm": {
     "name": "#%%\n"
    }
   }
  },
  {
   "cell_type": "code",
   "execution_count": 8,
   "outputs": [
    {
     "data": {
      "text/plain": "{'C1000': 17326,\n 'C2000': 6074,\n 'C1200': 4837,\n 'C3000': 1918,\n 'C2100': 1883,\n 'C7000': 777,\n 'C1700': 287,\n 'C4000': 194,\n 'C5000': 116,\n 'C1270': 114,\n 'C2700': 104,\n 'C2800': 95,\n 'C7100': 75,\n 'C1300': 58,\n 'C1280': 50,\n 'C1230': 36,\n 'C1400': 34,\n 'C7200': 32,\n 'C2300': 32,\n 'C1240': 30,\n 'C8000': 20,\n 'C7120': 18,\n 'C1500': 16,\n 'C1800': 15,\n 'C6000': 15,\n 'C1250': 14,\n 'C8200': 11,\n 'C1238': 10,\n 'C1278': 10,\n 'C1235': 9,\n 'C1237': 9,\n 'C7210': 7,\n 'C2400': 6,\n 'C1720': 6,\n 'C4100': 6,\n 'C1257': 5,\n 'C1600': 5,\n 'C1260': 3,\n 'C2710': 3,\n 'C0': 3,\n 'C3200': 2,\n 'C1234': 2,\n 'C1246': 2,\n 'C1267': 2,\n 'C1256': 2,\n 'C2190': 1,\n 'C4200': 1,\n 'C2600': 1,\n 'C5200': 1,\n 'C1370': 1,\n 'C1248': 1,\n 'C6100': 1,\n 'C1820': 1,\n 'C1900': 1,\n 'C1236': 1,\n 'C3700': 1,\n 'C2570': 1,\n 'C1580': 1,\n 'C1245': 1,\n 'C2500': 1,\n 'C1570': 1,\n 'C1283': 1,\n 'C2380': 1,\n 'C1732': 1,\n 'C1728': 1,\n 'C2170': 1,\n 'C4120': 1,\n 'C8210': 1,\n 'C2561': 1,\n 'C4500': 1,\n 'C2150': 1}"
     },
     "execution_count": 8,
     "metadata": {},
     "output_type": "execute_result"
    }
   ],
   "source": [
    "# Look at CLASSIFICATION value counts for binning\n",
    "#  YOUR CODE GOES HERE\n",
    "class_counts = application_df['CLASSIFICATION'].value_counts().to_dict()\n",
    "class_counts"
   ],
   "metadata": {
    "collapsed": false,
    "pycharm": {
     "name": "#%%\n"
    }
   }
  },
  {
   "cell_type": "code",
   "execution_count": 9,
   "metadata": {},
   "outputs": [
    {
     "data": {
      "text/plain": "['C1000',\n 'C2000',\n 'C1200',\n 'C3000',\n 'C2100',\n 'C7000',\n 'C1700',\n 'C4000',\n 'C5000',\n 'C1270',\n 'C2700',\n 'C2800',\n 'C7100',\n 'C1300',\n 'C1280',\n 'C1230',\n 'C1400',\n 'C7200',\n 'C2300',\n 'C1240',\n 'C8000',\n 'C7120',\n 'C1500',\n 'C1800',\n 'C6000',\n 'C1250',\n 'C8200',\n 'C1238',\n 'C1278',\n 'C1235',\n 'C1237',\n 'C7210',\n 'C2400',\n 'C1720',\n 'C4100',\n 'C1257',\n 'C1600',\n 'C1260',\n 'C2710',\n 'C0',\n 'C3200',\n 'C1234',\n 'C1246',\n 'C1267',\n 'C1256']"
     },
     "execution_count": 9,
     "metadata": {},
     "output_type": "execute_result"
    }
   ],
   "source": [
    "# You may find it helpful to look at CLASSIFICATION value counts >1\n",
    "#  YOUR CODE GOES HERE\n",
    "[k for k, v in class_counts.items() if v > 1]"
   ]
  },
  {
   "cell_type": "code",
   "execution_count": 11,
   "outputs": [
    {
     "data": {
      "text/plain": "C1000    17326\nC2000     6074\nC1200     4837\nC3000     1918\nC2100     1883\nC7000      777\nC1700      287\nC4000      194\nC5000      116\nC1270      114\nC2700      104\nC2800       95\nC7100       75\nC1300       58\nC1280       50\nC1230       36\nother       36\nC1400       34\nC2300       32\nC7200       32\nC1240       30\nC8000       20\nC7120       18\nC1500       16\nC6000       15\nC1800       15\nC1250       14\nC8200       11\nC1238       10\nC1278       10\nC1237        9\nC1235        9\nC7210        7\nC2400        6\nC4100        6\nC1720        6\nC1257        5\nC1600        5\nC1260        3\nC2710        3\nC0           3\nName: CLASSIFICATION, dtype: int64"
     },
     "execution_count": 11,
     "metadata": {},
     "output_type": "execute_result"
    }
   ],
   "source": [
    "# Choose a cutoff value and create a list of classifications to be replaced\n",
    "# use the variable name `classifications_to_replace`\n",
    "#  YOUR CODE GOES HERE\n",
    "classifications_to_replace = {k: 'other' for k, v in class_counts.items() if v < 3}\n",
    "len(classifications_to_replace)\n",
    "# Replace in dataframe\n",
    "\n",
    "\n",
    "application_df['CLASSIFICATION'].replace(classifications_to_replace, inplace=True)\n",
    "# Check to make sure binning was successful\n",
    "application_df['CLASSIFICATION'].value_counts()"
   ],
   "metadata": {
    "collapsed": false,
    "pycharm": {
     "name": "#%%\n"
    }
   }
  },
  {
   "cell_type": "code",
   "execution_count": 12,
   "metadata": {},
   "outputs": [
    {
     "data": {
      "text/plain": "STATUS                        int64\nASK_AMT                       int64\nIS_SUCCESSFUL                 int64\nAPPLICATION_TYPE_T19        float64\nAPPLICATION_TYPE_T3         float64\n                             ...   \nINCOME_AMT_25000-99999      float64\nINCOME_AMT_50M+             float64\nINCOME_AMT_5M-10M           float64\nSPECIAL_CONSIDERATIONS_N    float64\nSPECIAL_CONSIDERATIONS_Y    float64\nLength: 78, dtype: object"
     },
     "execution_count": 12,
     "metadata": {},
     "output_type": "execute_result"
    }
   ],
   "source": [
    "# Convert categorical data to numeric with `pd.get_dummies`\n",
    "\n",
    "#  YOUR CODE GOES HERE\n",
    "application_df = pd.get_dummies(application_df, dtype=float)\n",
    "application_df.dtypes"
   ]
  },
  {
   "cell_type": "code",
   "execution_count": 13,
   "metadata": {},
   "outputs": [],
   "source": [
    "# Split our preprocessed data into our features and target arrays\n",
    "y = application_df['IS_SUCCESSFUL']\n",
    "x = application_df.drop(columns=['IS_SUCCESSFUL'])\n",
    "\n",
    "# Split the preprocessed data into a training and testing dataset\n",
    "#  YOUR CODE GOES HERE\n",
    "x_train, x_test, y_train, y_test = tts(x, y, random_state=42)"
   ]
  },
  {
   "cell_type": "code",
   "execution_count": 14,
   "outputs": [],
   "source": [
    "# Create a StandardScaler instances\n",
    "scaler = StandardScaler()\n",
    "\n",
    "# Fit the StandardScaler\n",
    "x_scaler = scaler.fit(x_train)\n",
    "\n",
    "# Scale the data\n",
    "x_train_scaled = x_scaler.transform(x_train)\n",
    "x_test_scaled = x_scaler.transform(x_test)\n",
    "\n"
   ],
   "metadata": {
    "collapsed": false,
    "pycharm": {
     "name": "#%%\n"
    }
   }
  },
  {
   "cell_type": "markdown",
   "metadata": {},
   "source": [
    "## Compile, Train and Evaluate the Model"
   ]
  },
  {
   "cell_type": "code",
   "execution_count": 18,
   "metadata": {},
   "outputs": [
    {
     "name": "stdout",
     "output_type": "stream",
     "text": [
      "Model: \"sequential_1\"\n",
      "_________________________________________________________________\n",
      "Layer (type)                 Output Shape              Param #   \n",
      "=================================================================\n",
      "dense_2 (Dense)              (None, 80)                6240      \n",
      "_________________________________________________________________\n",
      "dense_3 (Dense)              (None, 30)                2430      \n",
      "_________________________________________________________________\n",
      "dense_4 (Dense)              (None, 1)                 31        \n",
      "=================================================================\n",
      "Total params: 8,701\n",
      "Trainable params: 8,701\n",
      "Non-trainable params: 0\n",
      "_________________________________________________________________\n"
     ]
    }
   ],
   "source": [
    "# Define the model - deep neural net, i.e., the number of input features and hidden nodes for each layer.\n",
    "#  YOUR CODE GOES HERE\n",
    "feat_count = x_train_scaled[0].shape\n",
    "\n",
    "from tensorflow.keras.layers import Dense\n",
    "# from tensorflow.keras.optimizers import SGD\n",
    "\n",
    "# sgd = SGD(lr=0.01)\n",
    "\n",
    "nn = tf.keras.models.Sequential(\n",
    "    # [\n",
    "    #     Dense(512, activation='elu', input_shape=x_train_scaled.shape, kernel_regularizer='l1'),\n",
    "    #     Dense(512//2, activation='elu', kernel_regularizer='l1'),\n",
    "    #     Dense(512//4, activation='elu', kernel_regularizer='l1'),\n",
    "    #     Dense(512//8, activation='elu',kernel_regularizer='l1'),\n",
    "    #     Dense(32, activation='relu',kernel_regularizer='l1'),\n",
    "    #     Dense(1, activation='softmax',kernel_regularizer='l1'),\n",
    "    # ]\n",
    ")\n",
    "\n",
    "# First hidden layer\n",
    "#  YOUR CODE GOES HERE\n",
    "\n",
    "nn.add(\n",
    "    Dense(\n",
    "        units=80,\n",
    "        input_shape=feat_count,\n",
    "        activation='relu',\n",
    "        # kernel_regularizer='l1'\n",
    "    )\n",
    ")\n",
    "#\n",
    "# # Second hidden layer\n",
    "# #  YOUR CODE GOES HERE\n",
    "nn.add(\n",
    "    Dense(\n",
    "        units=30,\n",
    "        activation='relu',\n",
    "        # kernel_regularizer='l1'\n",
    "    )\n",
    ")\n",
    "#\n",
    "# # Output layer\n",
    "# #  YOUR CODE GOES HERE\n",
    "nn.add(\n",
    "    Dense(\n",
    "        units=1,\n",
    "        activation='sigmoid'\n",
    "    )\n",
    ")\n",
    "# Check the structure of the model\n",
    "nn.summary()"
   ]
  },
  {
   "cell_type": "code",
   "execution_count": 19,
   "metadata": {},
   "outputs": [],
   "source": [
    "# Compile the model\n",
    "#  YOUR CODE GOES HERE\n",
    "nn.compile(\n",
    "    optimizer='adam',\n",
    "    loss='categorical_crossentropy',\n",
    "    metrics=['accuracy']\n",
    "\n",
    ")"
   ]
  },
  {
   "cell_type": "code",
   "execution_count": 20,
   "metadata": {},
   "outputs": [
    {
     "name": "stdout",
     "output_type": "stream",
     "text": [
      "WARNING:tensorflow:`period` argument is deprecated. Please use `save_freq` to specify the frequency in number of batches seen.\n",
      "Epoch 1/100\n",
      "804/804 [==============================] - 0s 367us/step - loss: 6.3391e-08 - accuracy: 0.5318\n",
      "Epoch 2/100\n",
      "804/804 [==============================] - 0s 366us/step - loss: 6.3391e-08 - accuracy: 0.5318\n",
      "Epoch 3/100\n",
      "804/804 [==============================] - 0s 376us/step - loss: 6.3391e-08 - accuracy: 0.5318\n",
      "Epoch 4/100\n",
      "804/804 [==============================] - 0s 367us/step - loss: 6.3391e-08 - accuracy: 0.5318\n",
      "Epoch 5/100\n",
      "804/804 [==============================] - 0s 381us/step - loss: 6.3391e-08 - accuracy: 0.5318\n",
      "Epoch 6/100\n",
      "804/804 [==============================] - 0s 369us/step - loss: 6.3391e-08 - accuracy: 0.5318\n",
      "Epoch 7/100\n",
      "804/804 [==============================] - 0s 360us/step - loss: 6.3391e-08 - accuracy: 0.5318\n",
      "Epoch 8/100\n",
      "804/804 [==============================] - 0s 362us/step - loss: 6.3391e-08 - accuracy: 0.5318\n",
      "Epoch 9/100\n",
      "804/804 [==============================] - 0s 358us/step - loss: 6.3391e-08 - accuracy: 0.5318\n",
      "Epoch 10/100\n",
      "804/804 [==============================] - 0s 409us/step - loss: 6.3391e-08 - accuracy: 0.5318\n",
      "Epoch 11/100\n",
      "804/804 [==============================] - 0s 366us/step - loss: 6.3391e-08 - accuracy: 0.5318\n",
      "Epoch 12/100\n",
      "804/804 [==============================] - 0s 362us/step - loss: 6.3391e-08 - accuracy: 0.5318\n",
      "Epoch 13/100\n",
      "804/804 [==============================] - 0s 370us/step - loss: 6.3391e-08 - accuracy: 0.5318\n",
      "Epoch 14/100\n",
      "804/804 [==============================] - 0s 363us/step - loss: 6.3391e-08 - accuracy: 0.5318\n",
      "Epoch 15/100\n",
      "804/804 [==============================] - 0s 387us/step - loss: 6.3391e-08 - accuracy: 0.5318\n",
      "Epoch 16/100\n",
      "804/804 [==============================] - 0s 362us/step - loss: 6.3391e-08 - accuracy: 0.5318\n",
      "Epoch 17/100\n",
      "804/804 [==============================] - 0s 365us/step - loss: 6.3391e-08 - accuracy: 0.5318\n",
      "Epoch 18/100\n",
      "804/804 [==============================] - 0s 368us/step - loss: 6.3391e-08 - accuracy: 0.5318\n",
      "Epoch 19/100\n",
      "804/804 [==============================] - 0s 365us/step - loss: 6.3391e-08 - accuracy: 0.5318\n",
      "Epoch 20/100\n",
      "804/804 [==============================] - 0s 381us/step - loss: 6.3391e-08 - accuracy: 0.5318\n",
      "Epoch 21/100\n",
      "804/804 [==============================] - 0s 363us/step - loss: 6.3391e-08 - accuracy: 0.5318\n",
      "Epoch 22/100\n",
      "804/804 [==============================] - 0s 367us/step - loss: 6.3391e-08 - accuracy: 0.5318\n",
      "Epoch 23/100\n",
      "804/804 [==============================] - 0s 369us/step - loss: 6.3391e-08 - accuracy: 0.5318\n",
      "Epoch 24/100\n",
      "804/804 [==============================] - 0s 364us/step - loss: 6.3391e-08 - accuracy: 0.5318\n",
      "Epoch 25/100\n",
      "804/804 [==============================] - 0s 375us/step - loss: 6.3391e-08 - accuracy: 0.5318\n",
      "Epoch 26/100\n",
      "804/804 [==============================] - 0s 365us/step - loss: 6.3391e-08 - accuracy: 0.5318\n",
      "Epoch 27/100\n",
      "804/804 [==============================] - 0s 367us/step - loss: 6.3391e-08 - accuracy: 0.5318\n",
      "Epoch 28/100\n",
      "804/804 [==============================] - 0s 369us/step - loss: 6.3391e-08 - accuracy: 0.5318\n",
      "Epoch 29/100\n",
      "804/804 [==============================] - 0s 368us/step - loss: 6.3391e-08 - accuracy: 0.5318\n",
      "Epoch 30/100\n",
      "804/804 [==============================] - 0s 367us/step - loss: 6.3391e-08 - accuracy: 0.5318\n",
      "Epoch 31/100\n",
      "804/804 [==============================] - 0s 369us/step - loss: 6.3391e-08 - accuracy: 0.5318\n",
      "Epoch 32/100\n",
      "804/804 [==============================] - 0s 365us/step - loss: 6.3391e-08 - accuracy: 0.5318\n",
      "Epoch 33/100\n",
      "804/804 [==============================] - 0s 363us/step - loss: 6.3391e-08 - accuracy: 0.5318\n",
      "Epoch 34/100\n",
      "804/804 [==============================] - 0s 366us/step - loss: 6.3391e-08 - accuracy: 0.5318\n",
      "Epoch 35/100\n",
      "804/804 [==============================] - 0s 371us/step - loss: 6.3391e-08 - accuracy: 0.5318\n",
      "Epoch 36/100\n",
      "804/804 [==============================] - 0s 364us/step - loss: 6.3391e-08 - accuracy: 0.5318\n",
      "Epoch 37/100\n",
      "804/804 [==============================] - 0s 366us/step - loss: 6.3391e-08 - accuracy: 0.5318\n",
      "Epoch 38/100\n",
      "804/804 [==============================] - 0s 362us/step - loss: 6.3391e-08 - accuracy: 0.5318\n",
      "Epoch 39/100\n",
      "804/804 [==============================] - 0s 363us/step - loss: 6.3391e-08 - accuracy: 0.5318\n",
      "Epoch 40/100\n",
      "804/804 [==============================] - 0s 393us/step - loss: 6.3391e-08 - accuracy: 0.5318\n",
      "Epoch 41/100\n",
      "804/804 [==============================] - 0s 369us/step - loss: 6.3391e-08 - accuracy: 0.5318\n",
      "Epoch 42/100\n",
      "804/804 [==============================] - 0s 365us/step - loss: 6.3391e-08 - accuracy: 0.5318\n",
      "Epoch 43/100\n",
      "804/804 [==============================] - 0s 365us/step - loss: 6.3391e-08 - accuracy: 0.5318\n",
      "Epoch 44/100\n",
      "804/804 [==============================] - 0s 364us/step - loss: 6.3391e-08 - accuracy: 0.5318\n",
      "Epoch 45/100\n",
      "804/804 [==============================] - 0s 369us/step - loss: 6.3391e-08 - accuracy: 0.5318\n",
      "Epoch 46/100\n",
      "804/804 [==============================] - 0s 366us/step - loss: 6.3391e-08 - accuracy: 0.5318\n",
      "Epoch 47/100\n",
      "804/804 [==============================] - 0s 369us/step - loss: 6.3391e-08 - accuracy: 0.5318\n",
      "Epoch 48/100\n",
      "804/804 [==============================] - 0s 368us/step - loss: 6.3391e-08 - accuracy: 0.5318\n",
      "Epoch 49/100\n",
      "804/804 [==============================] - 0s 365us/step - loss: 6.3391e-08 - accuracy: 0.5318\n",
      "Epoch 50/100\n",
      "804/804 [==============================] - 0s 381us/step - loss: 6.3391e-08 - accuracy: 0.5318\n",
      "Epoch 51/100\n",
      "804/804 [==============================] - 0s 367us/step - loss: 6.3391e-08 - accuracy: 0.5318\n",
      "Epoch 52/100\n",
      "804/804 [==============================] - 0s 376us/step - loss: 6.3391e-08 - accuracy: 0.5318\n",
      "Epoch 53/100\n",
      "804/804 [==============================] - 0s 372us/step - loss: 6.3391e-08 - accuracy: 0.5318\n",
      "Epoch 54/100\n",
      "804/804 [==============================] - 0s 363us/step - loss: 6.3391e-08 - accuracy: 0.5318\n",
      "Epoch 55/100\n",
      "804/804 [==============================] - 0s 383us/step - loss: 6.3391e-08 - accuracy: 0.5318\n",
      "Epoch 56/100\n",
      "804/804 [==============================] - 0s 368us/step - loss: 6.3391e-08 - accuracy: 0.5318\n",
      "Epoch 57/100\n",
      "804/804 [==============================] - 0s 358us/step - loss: 6.3391e-08 - accuracy: 0.5318\n",
      "Epoch 58/100\n",
      "804/804 [==============================] - 0s 361us/step - loss: 6.3391e-08 - accuracy: 0.5318\n",
      "Epoch 59/100\n",
      "804/804 [==============================] - 0s 365us/step - loss: 6.3391e-08 - accuracy: 0.5318\n",
      "Epoch 60/100\n",
      "804/804 [==============================] - 0s 402us/step - loss: 6.3391e-08 - accuracy: 0.5318\n",
      "Epoch 61/100\n",
      "804/804 [==============================] - 0s 365us/step - loss: 6.3391e-08 - accuracy: 0.5318\n",
      "Epoch 62/100\n",
      "804/804 [==============================] - 0s 366us/step - loss: 6.3391e-08 - accuracy: 0.5318\n",
      "Epoch 63/100\n",
      "804/804 [==============================] - 0s 369us/step - loss: 6.3391e-08 - accuracy: 0.5318\n",
      "Epoch 64/100\n",
      "804/804 [==============================] - 0s 367us/step - loss: 6.3391e-08 - accuracy: 0.5318\n",
      "Epoch 65/100\n",
      "804/804 [==============================] - 0s 384us/step - loss: 6.3391e-08 - accuracy: 0.5318\n",
      "Epoch 66/100\n",
      "804/804 [==============================] - 0s 366us/step - loss: 6.3391e-08 - accuracy: 0.5318\n",
      "Epoch 67/100\n",
      "804/804 [==============================] - 0s 364us/step - loss: 6.3391e-08 - accuracy: 0.5318\n",
      "Epoch 68/100\n",
      "804/804 [==============================] - 0s 363us/step - loss: 6.3391e-08 - accuracy: 0.5318\n",
      "Epoch 69/100\n",
      "804/804 [==============================] - 0s 367us/step - loss: 6.3391e-08 - accuracy: 0.5318\n",
      "Epoch 70/100\n",
      "804/804 [==============================] - 0s 388us/step - loss: 6.3391e-08 - accuracy: 0.5318\n",
      "Epoch 71/100\n",
      "804/804 [==============================] - 0s 369us/step - loss: 6.3391e-08 - accuracy: 0.5318\n",
      "Epoch 72/100\n",
      "804/804 [==============================] - 0s 368us/step - loss: 6.3391e-08 - accuracy: 0.5318\n",
      "Epoch 73/100\n",
      "804/804 [==============================] - 0s 369us/step - loss: 6.3391e-08 - accuracy: 0.5318\n",
      "Epoch 74/100\n",
      "804/804 [==============================] - 0s 370us/step - loss: 6.3391e-08 - accuracy: 0.5318\n",
      "Epoch 75/100\n",
      "804/804 [==============================] - 0s 375us/step - loss: 6.3391e-08 - accuracy: 0.5318\n",
      "Epoch 76/100\n",
      "804/804 [==============================] - 0s 367us/step - loss: 6.3391e-08 - accuracy: 0.5318\n",
      "Epoch 77/100\n",
      "804/804 [==============================] - 0s 367us/step - loss: 6.3391e-08 - accuracy: 0.5318\n",
      "Epoch 78/100\n",
      "804/804 [==============================] - 0s 370us/step - loss: 6.3391e-08 - accuracy: 0.5318\n",
      "Epoch 79/100\n",
      "804/804 [==============================] - 0s 368us/step - loss: 6.3391e-08 - accuracy: 0.5318\n",
      "Epoch 80/100\n",
      "804/804 [==============================] - 0s 466us/step - loss: 6.3391e-08 - accuracy: 0.5318\n",
      "Epoch 81/100\n",
      "804/804 [==============================] - 0s 374us/step - loss: 6.3391e-08 - accuracy: 0.5318\n",
      "Epoch 82/100\n",
      "804/804 [==============================] - 0s 373us/step - loss: 6.3391e-08 - accuracy: 0.5318\n",
      "Epoch 83/100\n",
      "804/804 [==============================] - 0s 376us/step - loss: 6.3391e-08 - accuracy: 0.5318\n",
      "Epoch 84/100\n",
      "804/804 [==============================] - 0s 376us/step - loss: 6.3391e-08 - accuracy: 0.5318\n",
      "Epoch 85/100\n",
      "804/804 [==============================] - 0s 392us/step - loss: 6.3391e-08 - accuracy: 0.5318\n",
      "Epoch 86/100\n",
      "804/804 [==============================] - 0s 374us/step - loss: 6.3391e-08 - accuracy: 0.5318\n",
      "Epoch 87/100\n",
      "804/804 [==============================] - 0s 376us/step - loss: 6.3391e-08 - accuracy: 0.5318\n",
      "Epoch 88/100\n",
      "804/804 [==============================] - 0s 372us/step - loss: 6.3391e-08 - accuracy: 0.5318\n",
      "Epoch 89/100\n",
      "804/804 [==============================] - 0s 372us/step - loss: 6.3391e-08 - accuracy: 0.5318\n",
      "Epoch 90/100\n",
      "804/804 [==============================] - 0s 394us/step - loss: 6.3391e-08 - accuracy: 0.5318\n",
      "Epoch 91/100\n",
      "804/804 [==============================] - 0s 369us/step - loss: 6.3391e-08 - accuracy: 0.5318\n",
      "Epoch 92/100\n",
      "804/804 [==============================] - 0s 374us/step - loss: 6.3391e-08 - accuracy: 0.5318\n",
      "Epoch 93/100\n",
      "804/804 [==============================] - 0s 370us/step - loss: 6.3391e-08 - accuracy: 0.5318\n",
      "Epoch 94/100\n",
      "804/804 [==============================] - 0s 369us/step - loss: 6.3391e-08 - accuracy: 0.5318\n",
      "Epoch 95/100\n",
      "804/804 [==============================] - 0s 388us/step - loss: 6.3391e-08 - accuracy: 0.5318\n",
      "Epoch 96/100\n",
      "804/804 [==============================] - 0s 370us/step - loss: 6.3391e-08 - accuracy: 0.5318\n",
      "Epoch 97/100\n",
      "804/804 [==============================] - 0s 375us/step - loss: 6.3391e-08 - accuracy: 0.5318\n",
      "Epoch 98/100\n",
      "804/804 [==============================] - 0s 366us/step - loss: 6.3391e-08 - accuracy: 0.5318\n",
      "Epoch 99/100\n",
      "804/804 [==============================] - 0s 373us/step - loss: 6.3391e-08 - accuracy: 0.5318\n",
      "Epoch 100/100\n",
      "804/804 [==============================] - 0s 411us/step - loss: 6.3391e-08 - accuracy: 0.5318\n"
     ]
    }
   ],
   "source": [
    "# Train the model\n",
    "#  YOUR CODE GOES HERE\n",
    "callback_checkpoint = tf.keras.callbacks.ModelCheckpoint(\n",
    "    filepath='../log/weight{epoch:02d}.hdf5',\n",
    "    save_weights_only=True,\n",
    "    period=5\n",
    ")\n",
    "\n",
    "model = nn.fit(\n",
    "    x_train,\n",
    "    y_train,\n",
    "    epochs=100,\n",
    "    callbacks=[callback_checkpoint]\n",
    ")\n"
   ]
  },
  {
   "cell_type": "code",
   "execution_count": 21,
   "metadata": {
    "pycharm": {
     "name": "#%%\n"
    }
   },
   "outputs": [
    {
     "name": "stdout",
     "output_type": "stream",
     "text": [
      "268/268 - 0s - loss: 6.3699e-08 - accuracy: 0.4570\n",
      "Loss: 6.369877070255825e-08\n",
      "Accuracy: 0.45702624320983887\n"
     ]
    }
   ],
   "source": [
    "# Evaluate the model using the test data\n",
    "model_loss, model_accuracy = nn.evaluate(x_test_scaled, y_test, verbose=2)\n",
    "print(f\"Loss: {model_loss}\\nAccuracy: {model_accuracy}\")"
   ]
  },
  {
   "cell_type": "code",
   "execution_count": 22,
   "outputs": [],
   "source": [
    "# Export our model to HDF5 file\n",
    "#  YOUR CODE GOES HERE\n",
    "output_file = pd.DataFrame(model.history)\n",
    "\n",
    "output_file.index = range(1, 101)\n",
    "output_file.index.name = 'index'\n",
    "# output_file.index = 'idx'\n",
    "# output_file.reset_index()\n",
    "output_file.to_hdf(\n",
    "    'AlphabetSoupCharity.h5',\n",
    "    key='df',\n",
    "    mode='w',\n",
    "    format='table'\n",
    ")\n"
   ],
   "metadata": {
    "collapsed": false,
    "pycharm": {
     "name": "#%%\n"
    }
   }
  }
 ],
 "metadata": {
  "kernelspec": {
   "display_name": "Python 3",
   "language": "python",
   "name": "python3"
  },
  "language_info": {
   "codemirror_mode": {
    "name": "ipython",
    "version": 3
   },
   "file_extension": ".py",
   "mimetype": "text/x-python",
   "name": "python",
   "nbconvert_exporter": "python",
   "pygments_lexer": "ipython3",
   "version": "3.7.6"
  }
 },
 "nbformat": 4,
 "nbformat_minor": 4
}